{
 "cells": [
  {
   "cell_type": "markdown",
   "metadata": {},
   "source": [
    "# Simulate a tic-tac-toe game and look at strategies for winning\n",
    "### Picture with rows and columns. 3x3 board - put crosses and noughts - when do you win?\n",
    "### You win when you have row of column or diagnol with same symbol.\n",
    "# Q1) build our board - createBoard()\n"
   ]
  },
  {
   "cell_type": "code",
   "execution_count": 1,
   "metadata": {},
   "outputs": [
    {
     "name": "stdout",
     "output_type": "stream",
     "text": [
      "[[0. 0. 0.]\n",
      " [0. 0. 0.]\n",
      " [0. 0. 0.]]\n"
     ]
    }
   ],
   "source": [
    "import numpy as np\n",
    "def createBoard():\n",
    "    board = np.zeros((3,3))\n",
    "    return board\n",
    "print(createBoard())"
   ]
  },
  {
   "cell_type": "markdown",
   "metadata": {},
   "source": [
    "# Q2) assume there are two players- player 1 and player 2 - will take their turns to change the value of the array from 0 to a 1 or 2. This indicates the player that makes that move"
   ]
  },
  {
   "cell_type": "code",
   "execution_count": 2,
   "metadata": {},
   "outputs": [],
   "source": [
    "def placeMarker(board, player, position):\n",
    "    ####################################\n",
    "    #board - 3x3 board we just created #\n",
    "    #player - either 1 or 2            #\n",
    "    #position - touple of 2            #\n",
    "    ####################################\n",
    "    #print(isTaken(board,position))\n",
    "    #while isTaken(board, position)==True:\n",
    "    #    pos_y = input('Please input a new row, the one you entered is taken')\n",
    "    #    pos_x = input('Now please enter the column')\n",
    "    #    position=(pos_y, pos_x)\n",
    "    check=board[int(position[0])][int(position[1])]\n",
    "    if check ==0:\n",
    "        board[int(position[0])][int(position[1])]=player\n",
    "    else:\n",
    "        print('This spot is taken')\n",
    "    return board\n"
   ]
  },
  {
   "cell_type": "code",
   "execution_count": 3,
   "metadata": {},
   "outputs": [],
   "source": [
    "def playGame():\n",
    "    board=createBoard()\n",
    "    while checkWin(board):\n",
    "        print(possiblePositions(board))\n",
    "        place = tuple(input('Where do you want to go, Player 1: '))\n",
    "        placeMarker(board, 1, place)\n",
    "        print(possiblePositions(board))\n",
    "        place = tuple(input('Where do you want to go, Player 2: '))\n",
    "        placeMarker(board, 2, place)"
   ]
  },
  {
   "cell_type": "markdown",
   "metadata": {},
   "source": [
    "# Homework- create a function called possiblePositions - this methods returns a list of all available positions(tuples) on the board that are available; not occupied\n",
    "### and\n",
    "### make one modification to the placeMarker and called v1"
   ]
  },
  {
   "cell_type": "code",
   "execution_count": 4,
   "metadata": {},
   "outputs": [
    {
     "name": "stdout",
     "output_type": "stream",
     "text": [
      "[(0, 0), (0, 1), (0, 2), (1, 0), (1, 1), (1, 2), (2, 0), (2, 1), (2, 2)]\n"
     ]
    }
   ],
   "source": [
    "def possiblePositions(board):\n",
    "    listOfCoor=[]\n",
    "    row=0\n",
    "    column=0\n",
    "    for x in board:\n",
    "        for y in x:\n",
    "            if y==0:\n",
    "                listOfCoor.append((row,column))\n",
    "            column+=1\n",
    "        row+=1\n",
    "        column=0\n",
    "    return listOfCoor\n",
    "boards=createBoard()\n",
    "print(possiblePositions(boards))"
   ]
  },
  {
   "cell_type": "code",
   "execution_count": 5,
   "metadata": {},
   "outputs": [],
   "source": [
    "def isTaken(board, position):\n",
    "    for x in possiblePositions(board):\n",
    "        if position == x:\n",
    "            return True\n",
    "    return False"
   ]
  },
  {
   "cell_type": "code",
   "execution_count": 6,
   "metadata": {},
   "outputs": [],
   "source": [
    "def diag_win(board, player):\n",
    "    if np.all(np.diag(board)==player) or np.all(np.diag(np.fliplr(board))==player):\n",
    "        return True\n",
    "    else:\n",
    "        return False"
   ]
  },
  {
   "cell_type": "code",
   "execution_count": 7,
   "metadata": {},
   "outputs": [],
   "source": [
    "def across_win(board, player):\n",
    "    for x in range(0,2):\n",
    "        if board[x][0] == player and board[x][1] == player and board[x][2] == player:\n",
    "                return True\n",
    "    return False"
   ]
  },
  {
   "cell_type": "code",
   "execution_count": 8,
   "metadata": {},
   "outputs": [],
   "source": [
    "def down_win(board, player):\n",
    "    for y in range(0,2):\n",
    "        if board[0][y] == player and board[1][y] == player and board[2][y] == player:\n",
    "            return True\n",
    "    return False"
   ]
  },
  {
   "cell_type": "code",
   "execution_count": 9,
   "metadata": {},
   "outputs": [],
   "source": [
    "def board_full(board):\n",
    "    zeros=0\n",
    "    for row in board:\n",
    "        for cell in row:\n",
    "            if cell == 0:\n",
    "                zeros+=1\n",
    "    if zeros==0:\n",
    "        return True\n",
    "    else: \n",
    "        return False"
   ]
  },
  {
   "cell_type": "code",
   "execution_count": null,
   "metadata": {},
   "outputs": [],
   "source": [
    "def checkWin(board):\n",
    "    for i in range(1,2):\n",
    "        if diag_win(board,i) or across_win(board,i) or down_win(board,i):\n",
    "            print('Player '+str(i)+' has won!!!')\n",
    "            return False\n",
    "    if board_full(board):\n",
    "        print('It is a tie!!!')\n",
    "        return False\n",
    "    return True"
   ]
  },
  {
   "cell_type": "code",
   "execution_count": null,
   "metadata": {},
   "outputs": [
    {
     "name": "stdout",
     "output_type": "stream",
     "text": [
      "[(0, 0), (0, 1), (0, 2), (1, 0), (1, 1), (1, 2), (2, 0), (2, 1), (2, 2)]\n",
      "[(0, 0), (0, 1), (0, 2), (1, 0), (1, 1), (1, 2), (2, 0), (2, 1), (2, 2)]\n",
      "Where do you want to go, Player 1: 00\n",
      "[(0, 1), (0, 2), (1, 0), (1, 1), (1, 2), (2, 0), (2, 1), (2, 2)]\n",
      "Where do you want to go, Player 2: 10\n",
      "[(0, 1), (0, 2), (1, 1), (1, 2), (2, 0), (2, 1), (2, 2)]\n",
      "Where do you want to go, Player 1: 01\n",
      "[(0, 2), (1, 1), (1, 2), (2, 0), (2, 1), (2, 2)]\n",
      "Where do you want to go, Player 2: 11\n",
      "[(0, 2), (1, 2), (2, 0), (2, 1), (2, 2)]\n",
      "Where do you want to go, Player 1: 02\n",
      "[(1, 2), (2, 0), (2, 1), (2, 2)]\n",
      "Where do you want to go, Player 2: 12\n",
      "Player 1 has won!!!\n",
      "[(2, 0), (2, 1), (2, 2)]\n",
      "Where do you want to go, Player 1: 22\n",
      "[(2, 0), (2, 1)]\n"
     ]
    }
   ],
   "source": [
    "playGame()"
   ]
  },
  {
   "cell_type": "code",
   "execution_count": null,
   "metadata": {},
   "outputs": [],
   "source": [
    "board=createBoard()\n",
    "board[0][1]\n",
    "position=(0,0)\n",
    "position[0]\n",
    "board[position[0]][position[1]]"
   ]
  },
  {
   "cell_type": "code",
   "execution_count": null,
   "metadata": {},
   "outputs": [],
   "source": [
    "position = tuple(input(''))"
   ]
  },
  {
   "cell_type": "code",
   "execution_count": null,
   "metadata": {},
   "outputs": [],
   "source": [
    "position[0]"
   ]
  },
  {
   "cell_type": "code",
   "execution_count": null,
   "metadata": {},
   "outputs": [],
   "source": []
  }
 ],
 "metadata": {
  "kernelspec": {
   "display_name": "Python 3",
   "language": "python",
   "name": "python3"
  },
  "language_info": {
   "codemirror_mode": {
    "name": "ipython",
    "version": 3
   },
   "file_extension": ".py",
   "mimetype": "text/x-python",
   "name": "python",
   "nbconvert_exporter": "python",
   "pygments_lexer": "ipython3",
   "version": "3.8.3"
  }
 },
 "nbformat": 4,
 "nbformat_minor": 4
}
