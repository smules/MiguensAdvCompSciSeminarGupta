{
 "cells": [
  {
   "cell_type": "markdown",
   "metadata": {},
   "source": [
    "**A team of doctors and scientists has developed a new medical test for a rare disease that they say is 99% accurate. However, they warn, that number is deceiving. \n",
    "\n",
    "**To explore the implications of this, suppose we have a population of 10000 people, of whom 1%, or 100 people, have the disease. \n",
    "\n",
    "write a function called simulate_tests, which predicts each of 4 quantities:\n",
    "\n",
    "**The number of true positives: the number of sick people who are correctly diagnosed as sick.\n",
    "The number of false positives: the number of healthy people who are incorrectly diagnosed as sick. \n",
    "The number of false negatives: the number of sick people who are incorrectly diagnosed as healthy. \n",
    "The number of true negatives: the number of healthy people who are correctly diagnosed as healthy.\n",
    "\n",
    "**Your function should print all 4 quantities mentioned above and return the fraction of incorrect positive results: that is, the number of incorrect positive results divided by the total number of positive results.\n",
    "\n",
    "***To simulate a single person's test:\n",
    "\n",
    "**Randomly choose whether the person is sick with a probability of 0.01.\n",
    "\n",
    "**Randomly choose whether the test is correct for them with a probability of 0.99.\n",
    "\n",
    "\n",
    "**Here's some sample output of the program (user input is italicized):\n",
    "\n",
    "\n",
    "**Number of people: 10000 \n",
    "Test accuracy: 0.99 \n",
    "Infection rate: 0.01 \n",
    "True positives: 93 \n",
    "False positives: 113 \n",
    "False negatives: 1 \n",
    "True negatives: 9793 \n",
    "54.85436893203883% of positive tests were incorrect\n",
    "**\n",
    "\n",
    "\n"
   ]
  },
  {
   "cell_type": "code",
   "execution_count": null,
   "metadata": {},
   "outputs": [],
   "source": []
  },
  {
   "cell_type": "code",
   "execution_count": 13,
   "metadata": {},
   "outputs": [
    {
     "name": "stdout",
     "output_type": "stream",
     "text": [
      "Number of people: 1000 Test accuracy: 0.99 infection rate: 0.01\n",
      "True positives: 508\n",
      "False positives: 479\n",
      "True negatives: 5\n",
      "False negatives: 8\n",
      "48.530901722391086% of positive tests were incorrect\n"
     ]
    }
   ],
   "source": [
    "import random\n",
    "def simulateTests(num_people, test_accuracy, infection_rate):\n",
    "    print('Number of people: '+str(num_people)+' Test accuracy: '+str(test_accuracy)+' infection rate: '+str(infection_rate))\n",
    "    truPos=0\n",
    "    falPos=0\n",
    "    truNeg=0\n",
    "    falNeg=0\n",
    "    for x in range(0,num_people):\n",
    "        inf = False\n",
    "        test = False\n",
    "        if random.randint(0,int(infection_rate*100)) == 0:\n",
    "            inf=True\n",
    "        if random.randint(0, int(test_accuracy*100)) != 0:\n",
    "            test = True\n",
    "        if inf ==True and test==True:\n",
    "            truPos+=1\n",
    "        elif inf==True and test==False:\n",
    "            falNeg+=1\n",
    "        elif inf==False and test==True:\n",
    "            falPos+=1\n",
    "        elif inf==False and test==False:\n",
    "            truNeg+=1\n",
    "    print('True positives: '+str(truPos)+'\\nFalse positives: '+str(falPos)+ '\\nTrue negatives: '+str(truNeg)+\n",
    "         '\\nFalse negatives: '+str(falNeg)+'\\n'+str(100*falPos/(truPos+falPos))+'% of positive tests were incorrect')\n",
    "simulateTests(1000, .99, .01)"
   ]
  },
  {
   "cell_type": "markdown",
   "metadata": {},
   "source": [
    "### Netflix Score\n",
    "You've just begun working for a company whose goal is to help users make new friends based on what they like to watch and read. Users input information about themselves, such as their Netflix history and favorite books. Your program will use this information to calculate a 'compatibility score' between two people, which serves as an estimate of how likely those people are to get along with one another. The compatibility score of two people is calculated as follows:\n",
    "\n",
    "compatibility =  (books liked in common) +  (shows on Netflix liked in common)\n",
    "\n",
    "we'll represent the books and movies liked by a particular user as separate lists. \n",
    "Given the lists representing, for example, the books liked by two different users, we find the number of elements present in both lists and divide it by the sum of the lengths of the two lists. \n",
    "\n",
    "implement the following function:\n",
    "\n",
    "which takes in two lists of strings and returns the number of elements the two lists have in common divided  by the total number of elements in both lists. For example, \n",
    "in_common(['a', 'b', 'c', 'd'], ['c', 'd', 'm', 'n', 'x', 'z']) would return 0.2, because both lists contain 'c' and 'd' and there are 4 elements in the first list and 6 in the second."
   ]
  },
  {
   "cell_type": "code",
   "execution_count": 2,
   "metadata": {},
   "outputs": [
    {
     "data": {
      "text/plain": [
       "0.2"
      ]
     },
     "execution_count": 2,
     "metadata": {},
     "output_type": "execute_result"
    }
   ],
   "source": [
    "\n",
    "def in_common(list1, list2):\n",
    "    counter=0\n",
    "    for x in list1:\n",
    "        for y in list2:\n",
    "            if x==y:\n",
    "                counter+=1\n",
    "    return (counter/(len(list1)+len(list2)))\n",
    "\n",
    "# test your method here\n",
    "\n",
    "in_common(['a', 'b', 'c', 'd'], ['c', 'd', 'm', 'n', 'x', 'z'])"
   ]
  },
  {
   "cell_type": "markdown",
   "metadata": {},
   "source": [
    "def calc_score(netflix_history1, netflix_history2, fav_books1, fav_books2)\n",
    "\n",
    " takes the names and preferences of two users and returns their compatibility score. The compatibility score between two users is the fraction of shows on Netflix in common + the fraction of books in common,  You may assume that there are no repeated elements in any of the lists."
   ]
  },
  {
   "cell_type": "code",
   "execution_count": 3,
   "metadata": {},
   "outputs": [],
   "source": [
    "# you must use the in_common method in this function\n",
    "def calc_score(netflix_history1, netflix_history2, fav_books1, fav_books2):\n",
    "    user1 = [netflix_history1, fav_books1]\n",
    "    user2 = [netflix_history2, fav_books2]\n",
    "    in_common(user1, user2)"
   ]
  },
  {
   "cell_type": "markdown",
   "metadata": {},
   "source": [
    "def new_friend(name_list, compatibility_scores)\n",
    "\n",
    "which takes in a list of names of all other users and a list of compatibility scores between the chosen user and all other users, and returns a list where the first element is the name of the user who is most compatible and the second element is their compatibility score. name_list stores the name for each user at the same index as the compatibility_scores list stores the corresponding compatabiity score. For example, for user Barack if we have name_list = ['Michelle', 'Joe'] and compability_scores = [1, 0.8], this means the the compatibility score between Barack and Michelle is 1 and the compatibility score between Barack and Joe is only 0.8. In this example, new_friend(name_list, compatability_scores) would return ['Michelle', 1]. You may break ties between equally-compatible users arbitrarily."
   ]
  },
  {
   "cell_type": "code",
   "execution_count": 4,
   "metadata": {},
   "outputs": [],
   "source": [
    "def new_friend(name_list, compatibility_scores):\n",
    "    index=0\n",
    "    last=0\n",
    "    for x in range(0,len(compatibility_scores)):\n",
    "        if capatibility_scores[x]>last:\n",
    "            last = capatibility_scores[x]\n",
    "            index = x\n",
    "    final=[name_list[index], compatibility_score[index]]\n",
    "    return final"
   ]
  },
  {
   "cell_type": "code",
   "execution_count": null,
   "metadata": {},
   "outputs": [],
   "source": []
  }
 ],
 "metadata": {
  "kernelspec": {
   "display_name": "Python 3",
   "language": "python",
   "name": "python3"
  },
  "language_info": {
   "codemirror_mode": {
    "name": "ipython",
    "version": 3
   },
   "file_extension": ".py",
   "mimetype": "text/x-python",
   "name": "python",
   "nbconvert_exporter": "python",
   "pygments_lexer": "ipython3",
   "version": "3.8.3"
  }
 },
 "nbformat": 4,
 "nbformat_minor": 2
}
