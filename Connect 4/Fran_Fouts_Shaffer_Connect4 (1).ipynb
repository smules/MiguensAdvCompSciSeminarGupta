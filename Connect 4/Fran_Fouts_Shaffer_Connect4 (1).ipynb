{
 "cells": [
  {
   "cell_type": "code",
   "execution_count": null,
   "metadata": {},
   "outputs": [],
   "source": [
    "#Written by Thomas Fouts, Fran Miguens, and Andrew Shaffer on 10/17\n",
    "#Compiled by Thomas Fouts on 10/18\n",
    "#Run the code by running the last cell "
   ]
  },
  {
   "cell_type": "code",
   "execution_count": 123,
   "metadata": {},
   "outputs": [],
   "source": [
    "import numpy as np"
   ]
  },
  {
   "cell_type": "code",
   "execution_count": 176,
   "metadata": {},
   "outputs": [],
   "source": [
    "def playConnect4(): #Written by Andrew Shaffer and Fran Miguens \n",
    "#Shaffer wrote outer loop, Fran wrote inner loops\n",
    "    \n",
    "    SENTINEL = -1\n",
    "    player = 'X' #Set the player as 'X'\n",
    "    board = makeBoard() #Create the board \n",
    "    playing = True #Set variable to control how many games we play\n",
    "    score = [0,0] #Create a list to keep track of score\n",
    "    while playing: #Continue to play until loop is ended\n",
    "        print('')\n",
    "        print(board) #Print the board \n",
    "        \n",
    "        while True: #Inner loop written by Fran \n",
    "            print('It is '+player+'s turn') #Print out whose turn it is\n",
    "            spot = int(input('Enter the row you would like to place a piece at, or -1 to quit')) #Take an input for where the player wants to go\n",
    "            if(spot == SENTINEL): #Allow for the user to enter the game\n",
    "                break \n",
    "            if(placePiece(board, spot, player)): #Place the piece, and use the boolean result to determine if a piece was placed\n",
    "                if (player =='X'): #Swap the players \n",
    "                    player ='O'\n",
    "                else:\n",
    "                    player = 'X'\n",
    "            print(board) #Print out the new board\n",
    "            winner = getSubMatrix(board) #Call the getSubMatrix method, save the result as a list\n",
    "\n",
    "            if(winner[0]): #If the first element of the winner list is true, end the game\n",
    "                if(winner[1]=='X'): #If someone one, check to see who won\n",
    "                    score[0]+=1 #Add to the scores list accordingly\n",
    "                else:\n",
    "                    score[1]+=1\n",
    "                break #Break the inner loop if someone wins\n",
    "                \n",
    "        #Outer loop written by Shaffer        \n",
    "        getScore(score) #Call the get Score method to get the score\n",
    "        board = makeBoard() #Make a new board for the next game\n",
    "        playAgain = str(input('Would you like to play again?')).upper() #Ask the user if they want to play again \n",
    "        if(playAgain == 'NO'): #If they dont want to play again\n",
    "            print('Thank you for playing')\n",
    "            getSeries(score) #Call the get Series method when the series is over\n",
    "            break #Break the outer loops \n",
    "            \n",
    "    \n",
    "        \n"
   ]
  },
  {
   "cell_type": "code",
   "execution_count": 154,
   "metadata": {},
   "outputs": [],
   "source": [
    "def getScore(score): #Get score method written by Thomas \n",
    "    print('X has won '+str(score[0])+' games, and O has won '+str(score[1])+' games') #Print out how many wins each player has"
   ]
  },
  {
   "cell_type": "code",
   "execution_count": 158,
   "metadata": {},
   "outputs": [],
   "source": [
    "def getSeries(score): #Get Series method written by Shaffer\n",
    "    if(score[0]>score[1]): #Check who has the most wins, and print out the winner\n",
    "        print('X won the series')\n",
    "    elif(score[1]>score[0]):\n",
    "        print('O won the series')\n",
    "    else:\n",
    "        print('X and O tied the series')"
   ]
  },
  {
   "cell_type": "code",
   "execution_count": 126,
   "metadata": {},
   "outputs": [],
   "source": [
    "def makeBoard(): #Written by Fran Miguens \n",
    "    board = np.full((7,7),' ') #Create a 7x7 array of empty spaced\n",
    "    for i in range(7): #Iterate through the top row\n",
    "        board[0][i] = str(i) #Label the rows with a string \n",
    "    return(board) #Return the board "
   ]
  },
  {
   "cell_type": "code",
   "execution_count": 162,
   "metadata": {},
   "outputs": [],
   "source": [
    "def placePiece(board, spot, player): #Written by Fouts and Shaffer\n",
    "    if(spot<0 or spot>6): #Written by Andrew Shaffer - Check to make sure that Ali doesnt enter an invalid number\n",
    "        print('Please enter a valid spot')  #Checks to make sure that the spot entered actaully exists\n",
    "        return False #If it does not exist, return false so that player can go again\n",
    "         \n",
    "    if(board[1][spot]!=' '): #Check to see if the row is full, and return false if it is\n",
    "        print('That row is full')\n",
    "        return False\n",
    "    \n",
    "    for i in range(2,7): #Written by Thomas Fouts- Iterate through each row, checking the column 'spot' to see if it is taken\n",
    "        if(board[i][spot]!=' '): #As soon as the spot is full, the previos spot must be the last free spot\n",
    "            board[i-1][spot]= player #Place the piece is the previous spot\n",
    "            return True # Return true to signify that a piece had been placed\n",
    "            \n",
    "    board[6][spot] = player #If all of spots are empty, place the piece in the bottom spot\n",
    "    return True #Return true "
   ]
  },
  {
   "cell_type": "code",
   "execution_count": 128,
   "metadata": {},
   "outputs": [],
   "source": [
    "def getSubMatrix(board): #Written by Thomas Fouts\n",
    "    for i in range(0, 4): #Iterates through each of the columns\n",
    "        for j in range(0,4): #Iterates through each of the rows\n",
    "            winner = checkWin(board[i:i+4, j:j+4]) #Calls Frans method with a 4x4 matrix, and loops through all possible matrix's \n",
    "            if(winner[0]): #If Fran's method returns that there was a winner\n",
    "                print('Congradulation, '+str(winner[1])+'s win!') #Print the congradulations statement\n",
    "                return [True,winner[1]] #Return true so the main method stops running \n",
    "    return [False,'null']\n",
    "            \n",
    "            "
   ]
  },
  {
   "cell_type": "code",
   "execution_count": 129,
   "metadata": {},
   "outputs": [],
   "source": [
    "def checkWin(board): #Written by Fran Miguens \n",
    "    #Default\n",
    "    winner=((False,''))\n",
    "    #Checks diagonals and returns winner if true\n",
    "    if np.all(np.diag(board)=='X') or np.all(np.diag(np.fliplr(board))=='X'):\n",
    "        winner=((True,'X')) #Return a tuple of if someone won and who won \n",
    "        return winner\n",
    "    elif np.all(np.diag(board)=='O') or np.all(np.diag(np.fliplr(board))=='O'):\n",
    "        winner=((True, 'O'))\n",
    "        return winner\n",
    "    #Checks rows and columns\n",
    "    for x in range(0,3):\n",
    "        #Checks Rows\n",
    "        if board[x][0] == 'X' and board[x][1] == 'X' and board[x][2] == 'X' and board[x][3]=='X':\n",
    "            winner=((True,'X'))\n",
    "        elif board[x][0] == 'O' and board[x][1] == 'O' and board[x][2] == 'O' and board[x][3]=='O':\n",
    "            winner=((True,'O'))\n",
    "        #Checks Columns\n",
    "        elif board[0][x] == 'X' and board[1][x] == 'X' and board[2][x] == 'X' and board[3][x]=='X':\n",
    "            winner=((True, 'X'))\n",
    "        elif board[0][x] == 'O' and board[1][x] == 'O' and board[2][x] == 'O' and board[3][x]=='O':\n",
    "            winner=((True, 'O'))\n",
    "    #returns winner\n",
    "    return winner"
   ]
  },
  {
   "cell_type": "code",
   "execution_count": 177,
   "metadata": {},
   "outputs": [
    {
     "name": "stdout",
     "output_type": "stream",
     "text": [
      "\n",
      "[['0' '1' '2' '3' '4' '5' '6']\n",
      " [' ' ' ' ' ' ' ' ' ' ' ' ' ']\n",
      " [' ' ' ' ' ' ' ' ' ' ' ' ' ']\n",
      " [' ' ' ' ' ' ' ' ' ' ' ' ' ']\n",
      " [' ' ' ' ' ' ' ' ' ' ' ' ' ']\n",
      " [' ' ' ' ' ' ' ' ' ' ' ' ' ']\n",
      " [' ' ' ' ' ' ' ' ' ' ' ' ' ']]\n",
      "It is Xs turn\n",
      "Enter the row you would like to place a piece at, or -1 to quit2\n",
      "[['0' '1' '2' '3' '4' '5' '6']\n",
      " [' ' ' ' ' ' ' ' ' ' ' ' ' ']\n",
      " [' ' ' ' ' ' ' ' ' ' ' ' ' ']\n",
      " [' ' ' ' ' ' ' ' ' ' ' ' ' ']\n",
      " [' ' ' ' ' ' ' ' ' ' ' ' ' ']\n",
      " [' ' ' ' ' ' ' ' ' ' ' ' ' ']\n",
      " [' ' ' ' 'X' ' ' ' ' ' ' ' ']]\n",
      "It is Os turn\n",
      "Enter the row you would like to place a piece at, or -1 to quit3\n",
      "[['0' '1' '2' '3' '4' '5' '6']\n",
      " [' ' ' ' ' ' ' ' ' ' ' ' ' ']\n",
      " [' ' ' ' ' ' ' ' ' ' ' ' ' ']\n",
      " [' ' ' ' ' ' ' ' ' ' ' ' ' ']\n",
      " [' ' ' ' ' ' ' ' ' ' ' ' ' ']\n",
      " [' ' ' ' ' ' ' ' ' ' ' ' ' ']\n",
      " [' ' ' ' 'X' 'O' ' ' ' ' ' ']]\n",
      "It is Xs turn\n",
      "Enter the row you would like to place a piece at, or -1 to quit2\n",
      "[['0' '1' '2' '3' '4' '5' '6']\n",
      " [' ' ' ' ' ' ' ' ' ' ' ' ' ']\n",
      " [' ' ' ' ' ' ' ' ' ' ' ' ' ']\n",
      " [' ' ' ' ' ' ' ' ' ' ' ' ' ']\n",
      " [' ' ' ' ' ' ' ' ' ' ' ' ' ']\n",
      " [' ' ' ' 'X' ' ' ' ' ' ' ' ']\n",
      " [' ' ' ' 'X' 'O' ' ' ' ' ' ']]\n",
      "It is Os turn\n",
      "Enter the row you would like to place a piece at, or -1 to quit3\n",
      "[['0' '1' '2' '3' '4' '5' '6']\n",
      " [' ' ' ' ' ' ' ' ' ' ' ' ' ']\n",
      " [' ' ' ' ' ' ' ' ' ' ' ' ' ']\n",
      " [' ' ' ' ' ' ' ' ' ' ' ' ' ']\n",
      " [' ' ' ' ' ' ' ' ' ' ' ' ' ']\n",
      " [' ' ' ' 'X' 'O' ' ' ' ' ' ']\n",
      " [' ' ' ' 'X' 'O' ' ' ' ' ' ']]\n",
      "It is Xs turn\n",
      "Enter the row you would like to place a piece at, or -1 to quit2\n",
      "[['0' '1' '2' '3' '4' '5' '6']\n",
      " [' ' ' ' ' ' ' ' ' ' ' ' ' ']\n",
      " [' ' ' ' ' ' ' ' ' ' ' ' ' ']\n",
      " [' ' ' ' ' ' ' ' ' ' ' ' ' ']\n",
      " [' ' ' ' 'X' ' ' ' ' ' ' ' ']\n",
      " [' ' ' ' 'X' 'O' ' ' ' ' ' ']\n",
      " [' ' ' ' 'X' 'O' ' ' ' ' ' ']]\n",
      "It is Os turn\n",
      "Enter the row you would like to place a piece at, or -1 to quit3\n",
      "[['0' '1' '2' '3' '4' '5' '6']\n",
      " [' ' ' ' ' ' ' ' ' ' ' ' ' ']\n",
      " [' ' ' ' ' ' ' ' ' ' ' ' ' ']\n",
      " [' ' ' ' ' ' ' ' ' ' ' ' ' ']\n",
      " [' ' ' ' 'X' 'O' ' ' ' ' ' ']\n",
      " [' ' ' ' 'X' 'O' ' ' ' ' ' ']\n",
      " [' ' ' ' 'X' 'O' ' ' ' ' ' ']]\n",
      "It is Xs turn\n",
      "Enter the row you would like to place a piece at, or -1 to quit2\n",
      "[['0' '1' '2' '3' '4' '5' '6']\n",
      " [' ' ' ' ' ' ' ' ' ' ' ' ' ']\n",
      " [' ' ' ' ' ' ' ' ' ' ' ' ' ']\n",
      " [' ' ' ' 'X' ' ' ' ' ' ' ' ']\n",
      " [' ' ' ' 'X' 'O' ' ' ' ' ' ']\n",
      " [' ' ' ' 'X' 'O' ' ' ' ' ' ']\n",
      " [' ' ' ' 'X' 'O' ' ' ' ' ' ']]\n",
      "Congradulation, Xs win!\n",
      "X has won 1 games, and O has won 0 games\n",
      "Would you like to play again?no\n",
      "Thank you for playing\n",
      "X won the series\n"
     ]
    }
   ],
   "source": [
    "playConnect4()\n"
   ]
  },
  {
   "cell_type": "code",
   "execution_count": null,
   "metadata": {},
   "outputs": [],
   "source": []
  }
 ],
 "metadata": {
  "kernelspec": {
   "display_name": "Python 3",
   "language": "python",
   "name": "python3"
  },
  "language_info": {
   "codemirror_mode": {
    "name": "ipython",
    "version": 3
   },
   "file_extension": ".py",
   "mimetype": "text/x-python",
   "name": "python",
   "nbconvert_exporter": "python",
   "pygments_lexer": "ipython3",
   "version": "3.8.3"
  }
 },
 "nbformat": 4,
 "nbformat_minor": 2
}
